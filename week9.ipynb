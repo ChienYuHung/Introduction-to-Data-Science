{
  "nbformat": 4,
  "nbformat_minor": 0,
  "metadata": {
    "colab": {
      "name": "Untitled8.ipynb",
      "provenance": [],
      "authorship_tag": "ABX9TyMeyNqYMiXu3macNzH/fitd",
      "include_colab_link": true
    },
    "kernelspec": {
      "name": "python3",
      "display_name": "Python 3"
    }
  },
  "cells": [
    {
      "cell_type": "markdown",
      "metadata": {
        "id": "view-in-github",
        "colab_type": "text"
      },
      "source": [
        "<a href=\"https://colab.research.google.com/github/ChienYuHung/Introduction-to-Data-Science/blob/master/week9.ipynb\" target=\"_parent\"><img src=\"https://colab.research.google.com/assets/colab-badge.svg\" alt=\"Open In Colab\"/></a>"
      ]
    },
    {
      "cell_type": "code",
      "metadata": {
        "id": "I7Q4iNeWvxwf",
        "outputId": "a1c10e25-0203-43ad-ceee-ed6a1f34a55b",
        "colab": {
          "base_uri": "https://localhost:8080/"
        }
      },
      "source": [
        "number = float(input(\"請輸入座號\"))\n",
        "t = int((number - 1)/5)\n",
        "c = t + 1\n",
        "print(f'座號為{number}，組別為{c}。')\n"
      ],
      "execution_count": 5,
      "outputs": [
        {
          "output_type": "stream",
          "text": [
            "請輸入座號19\n",
            "座號為19.0，組別為4。\n"
          ],
          "name": "stdout"
        }
      ]
    }
  ]
}