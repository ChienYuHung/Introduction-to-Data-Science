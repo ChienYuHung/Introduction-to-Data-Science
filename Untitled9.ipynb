{
  "nbformat": 4,
  "nbformat_minor": 0,
  "metadata": {
    "colab": {
      "name": "Untitled9.ipynb",
      "provenance": [],
      "authorship_tag": "ABX9TyMPngEwPt4mxpmPn8gGxDDA",
      "include_colab_link": true
    },
    "kernelspec": {
      "name": "python3",
      "display_name": "Python 3"
    }
  },
  "cells": [
    {
      "cell_type": "markdown",
      "metadata": {
        "id": "view-in-github",
        "colab_type": "text"
      },
      "source": [
        "<a href=\"https://colab.research.google.com/github/ChienYuHung/Introduction-to-Data-Science/blob/master/Untitled9.ipynb\" target=\"_parent\"><img src=\"https://colab.research.google.com/assets/colab-badge.svg\" alt=\"Open In Colab\"/></a>"
      ]
    },
    {
      "cell_type": "code",
      "metadata": {
        "colab": {
          "base_uri": "https://localhost:8080/"
        },
        "id": "yQjbXC5VzIa6",
        "outputId": "815d8642-ec1b-4554-acca-a8bfbfb55582"
      },
      "source": [
        "print(\"哈囉,大家好。我叫Zyxo64,是一個聊天機器人。\")\n",
        "hobby = \"我很喜歡美食東西,也喜歡養動物。今天很高興有機會來到世新大學,請大家多多指教。\"\n",
        "print(hobby)\n",
        "name = input(\"嗨!你好,請問大名?:\")\n",
        "print(\"我叫\", name)\n",
        "print(\"你好\", name, \"很高興認識你\")\n",
        "year=input(\"請問一下今年是西元2020年,那是民國幾年呢?\")\n",
        "print(\"對!應該沒錯,謝謝你\")\n",
        "myage=int(input(\"再猜猜看我今年幾歲?\"))\n",
        "print(\"哇!你好聰明,我今年的確\", myage)\n",
        "nyears=100 - myage\n",
        "print(\"我再\", nyears, \"年就滿100歲了。\")\n",
        "print(\"到時候是西元\",int(year) + nyears + 1911, \"年\")\n",
        "print(\"我喜歡巧克力,也喜歡嘗試各種新食物。\")\n",
        "food = input(\"你呢。你最喜歡的食物是什麼?:\")\n",
        "print(\"我也喜歡\",food)\n",
        "question = \"你多久吃一次\" + food + \"?:\"\n",
        "howoften = input(question)\n",
        "print(\"真有趣。不知道這樣對健康好不好!\")\n",
        "animal=input(\"我最喜歡的動物是長頸鹿。你呢?;\")\n",
        "print(\"我不喜歡\",animal)\n",
        "print(\"不知道\",animal,\"喜不喜歡吃\",food,\"?\")\n",
        "feeling=input(\"你今天心情如何?;\")\n",
        "print(\"告訴我你現在\",feeling,\"的原因。\")\n",
        "reason=input(\"為什麼:\")\n",
        "print(\"我知道了。謝謝分享。\")\n",
        "print(\"今天事情真多!我累了,下次再聊。\")\n",
        "print(\"再見\",name,\"我喜歡跟你聊天!\")\n",
        "\n"
      ],
      "execution_count": 1,
      "outputs": [
        {
          "output_type": "stream",
          "text": [
            "哈囉,大家好。我叫Zyxo64,是一個聊天機器人。\n",
            "我很喜歡美食東西,也喜歡養動物。今天很高興有機會來到世新大學,請大家多多指教。\n",
            "嗨!你好,請問大名?:jessica\n",
            "我叫 jessica\n",
            "你好 jessica 很高興認識你\n",
            "請問一下今年是西元2020年,那是民國幾年呢?109\n",
            "對!應該沒錯,謝謝你\n",
            "再猜猜看我今年幾歲?19\n",
            "哇!你好聰明,我今年的確 19\n",
            "我再 81 年就滿100歲了。\n",
            "到時候是西元 2101 年\n",
            "我喜歡巧克力,也喜歡嘗試各種新食物。\n",
            "你呢。你最喜歡的食物是什麼?:薯條\n",
            "我也喜歡 薯條\n",
            "你多久吃一次薯條?:兩個禮拜一次\n",
            "真有趣。不知道這樣對健康好不好!\n",
            "我最喜歡的動物是長頸鹿。你呢?;老虎\n",
            "我不喜歡 老虎\n",
            "不知道 老虎 喜不喜歡吃 薯條 ?\n",
            "你今天心情如何?;很好\n",
            "告訴我你現在 很好 的原因。\n",
            "為什麼:天氣好\n",
            "我知道了。謝謝分享。\n",
            "今天事情真多!我累了,下次再聊。\n",
            "再見 jessica 我喜歡跟你聊天!\n"
          ],
          "name": "stdout"
        }
      ]
    }
  ]
}