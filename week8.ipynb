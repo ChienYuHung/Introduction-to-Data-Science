{
  "nbformat": 4,
  "nbformat_minor": 0,
  "metadata": {
    "colab": {
      "name": "Untitled7.ipynb",
      "provenance": [],
      "authorship_tag": "ABX9TyOYWYnUFRMFnU4wxyrxwROe",
      "include_colab_link": true
    },
    "kernelspec": {
      "name": "python3",
      "display_name": "Python 3"
    }
  },
  "cells": [
    {
      "cell_type": "markdown",
      "metadata": {
        "id": "view-in-github",
        "colab_type": "text"
      },
      "source": [
        "<a href=\"https://colab.research.google.com/github/ChienYuHung/Introduction-to-Data-Science/blob/master/week8.ipynb\" target=\"_parent\"><img src=\"https://colab.research.google.com/assets/colab-badge.svg\" alt=\"Open In Colab\"/></a>"
      ]
    },
    {
      "cell_type": "code",
      "metadata": {
        "id": "jpzlRfyYi12T",
        "outputId": "0812ff98-a9a0-400c-830c-ce90f8ddfbd2",
        "colab": {
          "base_uri": "https://localhost:8080/"
        }
      },
      "source": [
        ">>> a = 3\n",
        ">>> b = 300\n",
        ">>> c = 4\n",
        ">>> d = 350\n",
        ">>> e = 5\n",
        ">>> f = 400\n",
        ">>> print(a*b+c*d+e*f)\n"
      ],
      "execution_count": null,
      "outputs": [
        {
          "output_type": "stream",
          "text": [
            "4300\n"
          ],
          "name": "stdout"
        }
      ]
    },
    {
      "cell_type": "code",
      "metadata": {
        "id": "4YE_YLiokrvJ",
        "outputId": "b828fb1d-8875-4c82-906f-c28e3f07078b",
        "colab": {
          "base_uri": "https://localhost:8080/"
        }
      },
      "source": [
        ">>> a = 20\n",
        ">>> b = 200\n",
        ">>> c = 2\n",
        ">>> d = 6\n",
        ">>> print(a*d+b*c)"
      ],
      "execution_count": null,
      "outputs": [
        {
          "output_type": "stream",
          "text": [
            "520\n"
          ],
          "name": "stdout"
        }
      ]
    },
    {
      "cell_type": "code",
      "metadata": {
        "id": "N4NY2l4Oq2TO",
        "outputId": "4f3eadb0-5560-436f-cb72-73d36b179016",
        "colab": {
          "base_uri": "https://localhost:8080/"
        }
      },
      "source": [
        ">>> a = 75\n",
        ">>> b = 80\n",
        ">>> c = 65\n",
        ">>> d = (a+b+c)\n",
        ">>> e = 3\n",
        ">>> print(f'總分為{d},平均為{d/e}。')"
      ],
      "execution_count": 2,
      "outputs": [
        {
          "output_type": "stream",
          "text": [
            "總分為220,平均為73.33333333333333。\n"
          ],
          "name": "stdout"
        }
      ]
    }
  ]
}