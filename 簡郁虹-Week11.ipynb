{
  "nbformat": 4,
  "nbformat_minor": 0,
  "metadata": {
    "colab": {
      "name": "簡郁虹-Week11.ipynb",
      "provenance": [],
      "authorship_tag": "ABX9TyONkXgOwQFEZjijW/BIEND3",
      "include_colab_link": true
    },
    "kernelspec": {
      "name": "python3",
      "display_name": "Python 3"
    }
  },
  "cells": [
    {
      "cell_type": "markdown",
      "metadata": {
        "id": "view-in-github",
        "colab_type": "text"
      },
      "source": [
        "<a href=\"https://colab.research.google.com/github/ChienYuHung/Introduction-to-Data-Science/blob/master/%E7%B0%A1%E9%83%81%E8%99%B9-Week11.ipynb\" target=\"_parent\"><img src=\"https://colab.research.google.com/assets/colab-badge.svg\" alt=\"Open In Colab\"/></a>"
      ]
    },
    {
      "cell_type": "markdown",
      "metadata": {
        "id": "gRspL_SMoqQC"
      },
      "source": [
        "# 習題解答;分組報告"
      ]
    },
    {
      "cell_type": "code",
      "metadata": {
        "colab": {
          "base_uri": "https://localhost:8080/"
        },
        "id": "KUTKX0X0o4pO",
        "outputId": "453f0dd2-5b30-4f2a-e13f-da176743da33"
      },
      "source": [
        "# 方法(一):商數\n",
        "## Input\n",
        "number = input(\"Enter your seat number?\")\n",
        "number = int(number)\n",
        "## Process\n",
        "group = (number - 1) // 5\n",
        "## Output\n",
        "print(\"Group is\", group)"
      ],
      "execution_count": 2,
      "outputs": [
        {
          "output_type": "stream",
          "text": [
            "Enter your seat number?19\n",
            "Group is 3\n"
          ],
          "name": "stdout"
        }
      ]
    }
  ]
}