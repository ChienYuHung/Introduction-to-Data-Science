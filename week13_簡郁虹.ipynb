{
  "nbformat": 4,
  "nbformat_minor": 0,
  "metadata": {
    "colab": {
      "name": "week13-簡郁虹.ipynb",
      "provenance": [],
      "authorship_tag": "ABX9TyM61tKqzLizbG8PaECvf+sA",
      "include_colab_link": true
    },
    "kernelspec": {
      "name": "python3",
      "display_name": "Python 3"
    }
  },
  "cells": [
    {
      "cell_type": "markdown",
      "metadata": {
        "id": "view-in-github",
        "colab_type": "text"
      },
      "source": [
        "<a href=\"https://colab.research.google.com/github/ChienYuHung/Introduction-to-Data-Science/blob/master/week13_%E7%B0%A1%E9%83%81%E8%99%B9.ipynb\" target=\"_parent\"><img src=\"https://colab.research.google.com/assets/colab-badge.svg\" alt=\"Open In Colab\"/></a>"
      ]
    },
    {
      "cell_type": "code",
      "metadata": {
        "id": "4CCc8xl4nVkg"
      },
      "source": [
        "#資料容器List\r\n",
        "\r\n",
        "\r\n",
        "\r\n",
        "##混和串列\r\n",
        "\r\n",
        "list1=[1,2,3,4,5]\r\n",
        "\r\n",
        "##索引 position index - 0\r\n",
        "\r\n",
        "list1[0] # 1\r\n",
        "list1[4] # 5\r\n",
        "list1[-1] # 5\r\n",
        "\r\n",
        "## **切片**\r\n",
        "list1[1:4] # [2,3,4]\r\n",
        "\r\n",
        "\r\n",
        "list = [1,2,3,4,5]\r\n",
        "\r\n",
        "list2 = range(1,10000,1)#\r\n",
        "[1,2,3,4,5]\r\n",
        "\r\n",
        "list3 = range(1,6,2)#[1,3,5]\r\n",
        "\r\n",
        "#range(start,stop,step)\r\n",
        "#[0,1,2,3,4,5,6,7,8,9]\r\n",
        "##start = 0, step = 1, stop = 10\r\n",
        "range(0,10,1)\r\n",
        "\r\n",
        "#2+4+6+8+10=?\r\n",
        "sum = 0\r\n",
        "for i in range(2,11,2):\r\n",
        "  sum =sum + i\r\n",
        "print(\"Total is\", sum)\r\n"
      ],
      "execution_count": null,
      "outputs": []
    }
  ]
}